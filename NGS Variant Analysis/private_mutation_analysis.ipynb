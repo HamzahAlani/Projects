{
 "cells": [
  {
   "cell_type": "code",
   "execution_count": 71,
   "metadata": {},
   "outputs": [],
   "source": [
    "vcf_file = open('trio_example.vcf', 'r')\n"
   ]
  },
  {
   "cell_type": "code",
   "execution_count": 72,
   "metadata": {},
   "outputs": [
    {
     "name": "stdout",
     "output_type": "stream",
     "text": [
      "2234 64830 65833\n",
      "606 7022 7301\n"
     ]
    }
   ],
   "source": [
    "total_mutations = 0\n",
    "private_SNV_N1 = 0\n",
    "private_SNV_N2 = 0\n",
    "private_SNV_N3 = 0\n",
    "\n",
    "private_indel_N1 = 0\n",
    "private_indel_N2 = 0\n",
    "private_indel_N3 = 0\n",
    "\n",
    "\n",
    "\n",
    "for line in vcf_file:\n",
    "    \n",
    "    # check if the line is an info line, starting with ##, in that case, skip\n",
    "    if (line.startswith(\"##\")):\n",
    "        continue\n",
    "    if (line.startswith(\"#\")):\n",
    "        #here we want to find the index of each column\n",
    "        header=line.split(\"\\t\") # split by tabulator\n",
    "        \n",
    "        for item in enumerate(header):\n",
    "            if (item[1] == 'N1'):\n",
    "                index_N1=item[0]\n",
    "            if (item[1] == 'N2'):\n",
    "                index_N2=item[0]\n",
    "            if (item[1] == 'N3\\n'):\n",
    "                index_N3=item[0]\n",
    "                \n",
    "         \n",
    "    else:\n",
    "        info = line.split(\"\\t\")\n",
    "        N1=info[index_N1]\n",
    "        N2=info[index_N2]\n",
    "        N3=info[index_N3].strip()  # we use strip function to get rid of \"\\n\" at the end of each line.\n",
    "        \n",
    "        \n",
    "        \n",
    "        \n",
    "        \n",
    "       # now we find private SNV and Indel mutations for each indiviual \n",
    "    \n",
    "        if(len(info[3]) == 1 and len(info[4]) == 1):\n",
    "            if (N1 != \"0/0\"):\n",
    "                if (N2 == \"0/0\" and N3 == \"0/0\"):\n",
    "                    private_SNV_N1 = private_SNV_N1 + 1\n",
    "            \n",
    "            if (N2 != \"0/0\"):\n",
    "                if (N1 == \"0/0\" and N3 == \"0/0\"):\n",
    "                    private_SNV_N2 = private_SNV_N2 + 1\n",
    "            \n",
    "            if (N3 != \"0/0\"):\n",
    "                if (N2 == \"0/0\" and N1 == \"0/0\"):\n",
    "                    private_SNV_N3 = private_SNV_N3 + 1\n",
    "                    \n",
    "        if(len(info[3]) != 1 or len(info[4]) != 1):\n",
    "            if (N1 != \"0/0\"):\n",
    "                if (N2 == \"0/0\" and N3 == \"0/0\"):\n",
    "                    private_indel_N1 = private_indel_N1 + 1\n",
    "            \n",
    "            if (N2 != \"0/0\"):\n",
    "                if (N1 == \"0/0\" and N3 == \"0/0\"):\n",
    "                    private_indel_N2 = private_indel_N2 + 1\n",
    "            \n",
    "            if (N3 != \"0/0\"):\n",
    "                if (N2 == \"0/0\" and N1 == \"0/0\"):\n",
    "                    private_indel_N3 = private_indel_N3 + 1\n",
    "            \n",
    "            \n",
    "      \n",
    "            \n",
    "            \n",
    "            \n",
    "            \n",
    "print (private_SNV_N1, private_SNV_N2, private_SNV_N3)\n",
    "print (private_indel_N1, private_indel_N2, private_indel_N3)\n",
    "\n",
    "# here we can see that N1 is the child because N1 has much lower \"private\" mutations than N2 and N3."
   ]
  },
  {
   "cell_type": "code",
   "execution_count": null,
   "metadata": {},
   "outputs": [],
   "source": []
  }
 ],
 "metadata": {
  "kernelspec": {
   "display_name": "Python 3.8 [python/3.8]",
   "language": "python",
   "name": "sys_python38"
  },
  "language_info": {
   "codemirror_mode": {
    "name": "ipython",
    "version": 3
   },
   "file_extension": ".py",
   "mimetype": "text/x-python",
   "name": "python",
   "nbconvert_exporter": "python",
   "pygments_lexer": "ipython3",
   "version": "3.8.2"
  }
 },
 "nbformat": 4,
 "nbformat_minor": 4
}
